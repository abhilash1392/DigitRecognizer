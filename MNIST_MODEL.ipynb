{
 "cells": [
  {
   "cell_type": "markdown",
   "id": "british-armstrong",
   "metadata": {},
   "source": [
    "### Importing the libraries \n",
    "import numpy as np \n",
    "import pandas as pd \n",
    "import tensorflow as tf \n",
    "from tensorflow.keras.layers import Input, Conv2D, BatchNormalization, Flatten, MaxPooling2D, Dense, Dropout \n",
    "from tensorflow.keras.models import Model\n",
    "from tensorflow.keras.datasets import mnist\n",
    "from PIL import Image, ImageOps\n",
    "import matplotlib.pyplot as plt"
   ]
  },
  {
   "cell_type": "code",
   "execution_count": 5,
   "id": "outside-cross",
   "metadata": {},
   "outputs": [],
   "source": [
    "(X_train,y_train),(X_test,y_test)=mnist.load_data()"
   ]
  },
  {
   "cell_type": "code",
   "execution_count": 9,
   "id": "therapeutic-palmer",
   "metadata": {},
   "outputs": [
    {
     "name": "stdout",
     "output_type": "stream",
     "text": [
      "X_train: (60000, 28, 28)\n",
      "X_test: (10000, 28, 28)\n"
     ]
    }
   ],
   "source": [
    "print(f'X_train: {X_train.shape}')\n",
    "print(f'X_test: {X_test.shape}')"
   ]
  },
  {
   "cell_type": "code",
   "execution_count": 66,
   "id": "derived-butler",
   "metadata": {},
   "outputs": [
    {
     "data": {
      "text/plain": [
       "<matplotlib.image.AxesImage at 0x7f6be48b3a50>"
      ]
     },
     "execution_count": 66,
     "metadata": {},
     "output_type": "execute_result"
    },
    {
     "data": {
      "image/png": "[encoded data removed]",
      "text/plain": [
       "<Figure size 432x288 with 1 Axes>"
      ]
     },
     "metadata": {
      "needs_background": "light"
     },
     "output_type": "display_data"
    }
   ],
   "source": [
    "plt.imshow(X_train[0])"
   ]
  },
  {
   "cell_type": "code",
   "execution_count": 21,
   "id": "virtual-tiger",
   "metadata": {},
   "outputs": [],
   "source": [
    "X_train=X_train/255.0\n",
    "X_test=X_test/255.0"
   ]
  },
  {
   "cell_type": "code",
   "execution_count": 10,
   "id": "clean-tourist",
   "metadata": {},
   "outputs": [],
   "source": [
    "X_train = np.expand_dims(X_train,-1)\n",
    "X_test = np.expand_dims(X_test,-1)"
   ]
  },
  {
   "cell_type": "code",
   "execution_count": 11,
   "id": "former-basic",
   "metadata": {},
   "outputs": [
    {
     "name": "stdout",
     "output_type": "stream",
     "text": [
      "X_train: (60000, 28, 28, 1)\n",
      "X_test: (10000, 28, 28, 1)\n"
     ]
    }
   ],
   "source": [
    "print(f'X_train: {X_train.shape}')\n",
    "print(f'X_test: {X_test.shape}')"
   ]
  },
  {
   "cell_type": "code",
   "execution_count": 13,
   "id": "played-fisher",
   "metadata": {},
   "outputs": [
    {
     "name": "stdout",
     "output_type": "stream",
     "text": [
      "10\n"
     ]
    }
   ],
   "source": [
    "K = len(set(y_train))\n",
    "print(K)"
   ]
  },
  {
   "cell_type": "code",
   "execution_count": 20,
   "id": "written-european",
   "metadata": {},
   "outputs": [
    {
     "name": "stdout",
     "output_type": "stream",
     "text": [
      "Model: \"model\"\n",
      "_________________________________________________________________\n",
      "Layer (type)                 Output Shape              Param #   \n",
      "=================================================================\n",
      "input_6 (InputLayer)         [(None, 28, 28, 1)]       0         \n",
      "_________________________________________________________________\n",
      "conv2d_10 (Conv2D)           (None, 27, 27, 32)        160       \n",
      "_________________________________________________________________\n",
      "batch_normalization_2 (Batch (None, 27, 27, 32)        128       \n",
      "_________________________________________________________________\n",
      "conv2d_11 (Conv2D)           (None, 26, 26, 32)        4128      \n",
      "_________________________________________________________________\n",
      "batch_normalization_3 (Batch (None, 26, 26, 32)        128       \n",
      "_________________________________________________________________\n",
      "max_pooling2d_8 (MaxPooling2 (None, 13, 13, 32)        0         \n",
      "_________________________________________________________________\n",
      "conv2d_12 (Conv2D)           (None, 12, 12, 64)        8256      \n",
      "_________________________________________________________________\n",
      "batch_normalization_4 (Batch (None, 12, 12, 64)        256       \n",
      "_________________________________________________________________\n",
      "conv2d_13 (Conv2D)           (None, 11, 11, 64)        16448     \n",
      "_________________________________________________________________\n",
      "batch_normalization_5 (Batch (None, 11, 11, 64)        256       \n",
      "_________________________________________________________________\n",
      "max_pooling2d_9 (MaxPooling2 (None, 5, 5, 64)          0         \n",
      "_________________________________________________________________\n",
      "flatten (Flatten)            (None, 1600)              0         \n",
      "_________________________________________________________________\n",
      "dense (Dense)                (None, 512)               819712    \n",
      "_________________________________________________________________\n",
      "dropout (Dropout)            (None, 512)               0         \n",
      "_________________________________________________________________\n",
      "dense_1 (Dense)              (None, 10)                5130      \n",
      "=================================================================\n",
      "Total params: 854,602\n",
      "Trainable params: 854,218\n",
      "Non-trainable params: 384\n",
      "_________________________________________________________________\n"
     ]
    }
   ],
   "source": [
    "# Building the neural net\n",
    "\n",
    "i = Input(shape = X_train[0].shape)\n",
    "x = Conv2D(32,(2,2),activation='relu')(i)\n",
    "x = BatchNormalization()(x)\n",
    "x = Conv2D(32,(2,2),activation='relu')(x)\n",
    "x = BatchNormalization()(x)\n",
    "x = MaxPooling2D()(x)\n",
    "x = Conv2D(64,(2,2),activation='relu')(x)\n",
    "x = BatchNormalization()(x)\n",
    "x = Conv2D(64,(2,2),activation='relu')(x)\n",
    "x = BatchNormalization()(x)\n",
    "x = MaxPooling2D()(x)\n",
    "x = Flatten()(x)\n",
    "x = Dense(512, activation='relu')(x)\n",
    "x = Dropout(0.2)(x)\n",
    "x = Dense(K,activation='sigmoid')(x)\n",
    "\n",
    "model = Model(i,x)\n",
    "\n",
    "model.summary()"
   ]
  },
  {
   "cell_type": "code",
   "execution_count": 25,
   "id": "apart-raise",
   "metadata": {},
   "outputs": [
    {
     "name": "stdout",
     "output_type": "stream",
     "text": [
      "Epoch 1/10\n",
      "1875/1875 [==============================] - 115s 59ms/step - loss: 0.3706 - accuracy: 0.8934 - val_loss: 0.1219 - val_accuracy: 0.9631\n",
      "Epoch 2/10\n",
      "1875/1875 [==============================] - 101s 54ms/step - loss: 0.0895 - accuracy: 0.9740 - val_loss: 0.0508 - val_accuracy: 0.9853\n",
      "Epoch 3/10\n",
      "1875/1875 [==============================] - 99s 53ms/step - loss: 0.0743 - accuracy: 0.9792 - val_loss: 0.0338 - val_accuracy: 0.9907\n",
      "Epoch 4/10\n",
      "1875/1875 [==============================] - 100s 54ms/step - loss: 0.0634 - accuracy: 0.9823 - val_loss: 0.0411 - val_accuracy: 0.9882\n",
      "Epoch 5/10\n",
      "1875/1875 [==============================] - 96s 51ms/step - loss: 0.0521 - accuracy: 0.9855 - val_loss: 0.0368 - val_accuracy: 0.9898\n",
      "Epoch 6/10\n",
      "1875/1875 [==============================] - 97s 52ms/step - loss: 0.0433 - accuracy: 0.9877 - val_loss: 0.0387 - val_accuracy: 0.9889\n",
      "Epoch 7/10\n",
      "1875/1875 [==============================] - 100s 53ms/step - loss: 0.0388 - accuracy: 0.9881 - val_loss: 0.0377 - val_accuracy: 0.9878\n",
      "Epoch 8/10\n",
      "1875/1875 [==============================] - 99s 53ms/step - loss: 0.0387 - accuracy: 0.9891 - val_loss: 0.0329 - val_accuracy: 0.9910\n",
      "Epoch 9/10\n",
      "1875/1875 [==============================] - 100s 53ms/step - loss: 0.0350 - accuracy: 0.9899 - val_loss: 0.0251 - val_accuracy: 0.9907\n",
      "Epoch 10/10\n",
      "1875/1875 [==============================] - 100s 53ms/step - loss: 0.0321 - accuracy: 0.9905 - val_loss: 0.0289 - val_accuracy: 0.9913\n"
     ]
    }
   ],
   "source": [
    "Image_Data_Generator = tf.keras.preprocessing.image.ImageDataGenerator(width_shift_range=0.1,height_shift_range=0.1)\n",
    "training_data = Image_Data_Generator.flow(X_train,y_train)\n",
    "model.compile(loss='sparse_categorical_crossentropy',optimizer='adam',metrics=['accuracy'])\n",
    "batch_size=32\n",
    "steps_per_epoch=X_train.shape[0]//batch_size\n",
    "r = model.fit(training_data,validation_data=(X_test,y_test),epochs=10,steps_per_epoch=steps_per_epoch,batch_size=batch_size)"
   ]
  },
  {
   "cell_type": "code",
   "execution_count": 67,
   "id": "literary-pennsylvania",
   "metadata": {},
   "outputs": [
    {
     "data": {
      "text/plain": [
       "(28, 28)"
      ]
     },
     "execution_count": 67,
     "metadata": {},
     "output_type": "execute_result"
    }
   ],
   "source": [
    "img = Image.open('digitZero.png')\n",
    "img = ImageOps.grayscale(img)\n",
    "img = img.resize((28,28))\n",
    "img_array = np.array(img)\n",
    "img_array = np.invert(img)\n",
    "img_array = img_array/255.0\n",
    "img_array.shape\n"
   ]
  },
  {
   "cell_type": "code",
   "execution_count": 68,
   "id": "egyptian-iraqi",
   "metadata": {},
   "outputs": [
    {
     "data": {
      "text/plain": [
       "<matplotlib.image.AxesImage at 0x7f6be48f6e10>"
      ]
     },
     "execution_count": 68,
     "metadata": {},
     "output_type": "execute_result"
    },
    {
     "data": {
      "image/png": "[encoded data removed]",
      "text/plain": [
       "<Figure size 432x288 with 1 Axes>"
      ]
     },
     "metadata": {
      "needs_background": "light"
     },
     "output_type": "display_data"
    }
   ],
   "source": [
    "plt.imshow(img_array)"
   ]
  },
  {
   "cell_type": "code",
   "execution_count": 69,
   "id": "tender-jumping",
   "metadata": {},
   "outputs": [
    {
     "data": {
      "text/plain": [
       "(1, 28, 28, 1)"
      ]
     },
     "execution_count": 69,
     "metadata": {},
     "output_type": "execute_result"
    }
   ],
   "source": [
    "img_array = img_array.reshape(1,28,28,1)\n",
    "img_array.shape"
   ]
  },
  {
   "cell_type": "code",
   "execution_count": 70,
   "id": "moral-trademark",
   "metadata": {},
   "outputs": [
    {
     "data": {
      "text/plain": [
       "(1, 28, 28, 1)"
      ]
     },
     "execution_count": 70,
     "metadata": {},
     "output_type": "execute_result"
    }
   ],
   "source": [
    "img_array.shape"
   ]
  },
  {
   "cell_type": "code",
   "execution_count": 71,
   "id": "otherwise-earth",
   "metadata": {},
   "outputs": [
    {
     "name": "stdout",
     "output_type": "stream",
     "text": [
      "[4]\n"
     ]
    }
   ],
   "source": [
    "y_pred_1 = model.predict(img_array)\n",
    "print(np.argmax(y_pred_1,axis=1))"
   ]
  },
  {
   "cell_type": "code",
   "execution_count": 72,
   "id": "adolescent-techno",
   "metadata": {},
   "outputs": [],
   "source": [
    "model.save('my_model.h5')"
   ]
  }
 ],
 "metadata": {
  "kernelspec": {
   "display_name": "Python 3",
   "language": "python",
   "name": "python3"
  },
  "language_info": {
   "codemirror_mode": {
    "name": "ipython",
    "version": 3
   },
   "file_extension": ".py",
   "mimetype": "text/x-python",
   "name": "python",
   "nbconvert_exporter": "python",
   "pygments_lexer": "ipython3",
   "version": "3.7.6"
  }
 },
 "nbformat": 4,
 "nbformat_minor": 5
}
